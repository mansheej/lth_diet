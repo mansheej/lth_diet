{
 "cells": [
  {
   "cell_type": "code",
   "execution_count": 3,
   "metadata": {},
   "outputs": [],
   "source": [
    "from composer.algorithms import ChannelsLastHparams\n",
    "from composer.callbacks import LRMonitorHparams\n",
    "from composer.core.time import Time\n",
    "from composer.core.types import DataLoader\n",
    "from composer.datasets import DataLoaderHparams\n",
    "from composer.loggers import WandBLoggerHparams\n",
    "from composer.models import ComposerClassifier\n",
    "from composer.optim import (SGDHparams, ConstantSchedulerHparams, CosineAnnealingSchedulerHparams, \n",
    "                            CosineAnnealingWithWarmupSchedulerHparams, MultiStepSchedulerHparams, \n",
    "                            MultiStepWithWarmupSchedulerHparams)\n",
    "from composer.trainer import Trainer, TrainerHparams\n",
    "from composer.utils.object_store import ObjectStoreProviderHparams, ObjectStoreProvider\n",
    "from copy import deepcopy\n",
    "from lth_diet.data import CIFAR10DataHparams, DataHparams\n",
    "from lth_diet.exps import LotteryExperiment, LotteryRetrainExperiment\n",
    "from lth_diet.models import ResNetCIFARClassifierHparams, ClassifierHparams\n",
    "from lth_diet.pruning import Mask, PrunedClassifier, PruningHparams\n",
    "from lth_diet.pruning.pruned_classifier import prunable_layer_names\n",
    "from lth_diet.utils import utils\n",
    "from numpy.typing import NDArray\n",
    "import matplotlib.pyplot as plt\n",
    "import numpy as np\n",
    "import os\n",
    "import pandas as pd\n",
    "import re\n",
    "import seaborn as sns\n",
    "import torch\n",
    "from tqdm import tqdm\n",
    "from typing import Callable, Dict, Tuple\n",
    "plt.style.use(\"default\")\n",
    "rc = {\"figure.figsize\": (4, 3), \"figure.dpi\": 150, \"figure.constrained_layout.use\": True, \"axes.grid\": True, \n",
    "      \"axes.spines.right\": False, \"axes.spines.top\": False, \"axes.linewidth\": 0.6, \"grid.linewidth\": 0.6,\n",
    "      \"xtick.major.width\": 0.6, \"ytick.major.width\": 0.6, \"xtick.major.size\": 4, \"ytick.major.size\": 4, \n",
    "      \"axes.labelsize\": 11, \"axes.titlesize\": 11, \"xtick.labelsize\": 10, \"ytick.labelsize\": 10,\n",
    "      \"axes.titlepad\": 4, \"axes.labelpad\": 2, \"xtick.major.pad\": 2, \"ytick.major.pad\": 2,\n",
    "      \"lines.linewidth\": 1.2, 'lines.markeredgecolor': 'w', \"patch.linewidth\": 0}\n",
    "sns.set_theme(style='ticks', palette=sns.color_palette(\"colorblind\"), rc=rc)\n",
    "object_store = ObjectStoreProviderHparams('google_storage', 'prunes', 'GCS_KEY').initialize_object()\n",
    "bucket_dir = os.environ['OBJECT_STORE_DIR']"
   ]
  },
  {
   "cell_type": "code",
   "execution_count": 4,
   "metadata": {},
   "outputs": [
    {
     "data": {
      "text/plain": [
       "<torch.autograd.grad_mode.set_grad_enabled at 0x7f93366ac940>"
      ]
     },
     "execution_count": 4,
     "metadata": {},
     "output_type": "execute_result"
    }
   ],
   "source": [
    "torch.set_grad_enabled(False)"
   ]
  },
  {
   "cell_type": "code",
   "execution_count": 5,
   "metadata": {},
   "outputs": [],
   "source": [
    "config = f\"../configs/lottery_cinic10_retrain.yaml\"\n",
    "exp = LotteryRetrainExperiment.create(f=config, cli_args=False)\n",
    "load_replicates = [0, 1]\n",
    "replicates = [0, 1]\n",
    "rewinding_steps = [0, 200, 400, 800]\n",
    "model_hparams = ResNetCIFARClassifierHparams(10, 56)\n",
    "train_data = CIFAR10DataHparams(True,False,False,True,).initialize_object(1000, DataLoaderHparams(persistent_workers=False))\n",
    "test_data = CIFAR10DataHparams(False).initialize_object(1000, DataLoaderHparams(persistent_workers=False))"
   ]
  },
  {
   "cell_type": "code",
   "execution_count": 6,
   "metadata": {},
   "outputs": [],
   "source": [
    "def losses_and_state_dict(location, name, train_data):\n",
    "    state_dict = utils.load_object(location, name, object_store, torch.load)\n",
    "    model = model_hparams.initialize_object()\n",
    "    model.module.load_state_dict(state_dict)\n",
    "    print(f\"      Loaded {utils.get_object_name(location, name)}\")\n",
    "    losses = []\n",
    "    model.cuda()\n",
    "    model.eval()\n",
    "    for batch in train_data:\n",
    "        batch = batch[0].cuda(), batch[1].cuda()\n",
    "        logits = model(batch)\n",
    "        losses.append(torch.nn.CrossEntropyLoss(reduction=\"none\")(logits, batch[1])) \n",
    "    losses = torch.cat(losses).cpu().numpy()\n",
    "    print(f\"      Evaluated {utils.get_object_name(location, name)}\")\n",
    "    return losses, state_dict\n",
    "\n",
    "def losses_only(state_dict, train_data):\n",
    "    model = model_hparams.initialize_object()\n",
    "    model.module.load_state_dict(state_dict)\n",
    "    losses = []\n",
    "    model.cuda()\n",
    "    model.eval()\n",
    "    for batch in train_data:\n",
    "        batch = batch[0].cuda(), batch[1].cuda()\n",
    "        logits = model(batch)\n",
    "        losses.append(torch.nn.CrossEntropyLoss(reduction=\"none\")(logits, batch[1])) \n",
    "    losses = torch.cat(losses).cpu().numpy()\n",
    "    print(f\"      Evaluated midpoint\")\n",
    "    return losses\n",
    "\n",
    "def midpoint(state_dict: Dict, state_dict_: Dict) -> Dict:\n",
    "    \"\"\"Return the midpoint between two state dicts\"\"\"\n",
    "    state_dict__ = {}\n",
    "    for k, v in state_dict.items():\n",
    "        state_dict__[k] = (v + state_dict_[k]) / 2\n",
    "    return state_dict__"
   ]
  },
  {
   "cell_type": "code",
   "execution_count": 7,
   "metadata": {},
   "outputs": [],
   "source": [
    "# train_loss_barriers = np.zeros((len(rewinding_steps), len(load_replicates), 3, 50000))\n",
    "# for i, rstep in enumerate(rewinding_steps):\n",
    "#     print(\"rewinding step:\", rstep)\n",
    "#     for j, lrep in enumerate(load_replicates):\n",
    "#         print(\"  replicate:\", lrep)\n",
    "#         # setup experiment\n",
    "#         exp.load_exp.rewinding_steps = f\"{rstep}ba\"\n",
    "#         exp.load_replicate = lrep\n",
    "#         # parent\n",
    "#         location = f\"{utils.get_hash(exp.load_exp.name)}/replicate_{lrep}/level_0/main\"\n",
    "#         losses_, state_dict_ = losses_and_state_dict(location, \"model_final.pt\", train_data)\n",
    "#         # child 0 \n",
    "#         location = f\"{utils.get_hash(exp.load_exp.name)}/replicate_{lrep}/level_0/{utils.get_hash(exp.name)}/replicate_{0}/main\"\n",
    "#         losses_0, state_dict_0 = losses_and_state_dict(location, \"model_final.pt\", train_data)\n",
    "#         # child 0 \n",
    "#         location = f\"{utils.get_hash(exp.load_exp.name)}/replicate_{lrep}/level_0/{utils.get_hash(exp.name)}/replicate_{1}/main\"\n",
    "#         losses_1, state_dict_1 = losses_and_state_dict(location, \"model_final.pt\", train_data)\n",
    "#         # midpoint 0\n",
    "#         state_dict = midpoint(state_dict_, state_dict_0)\n",
    "#         losses = losses_only(state_dict, train_data)\n",
    "#         train_loss_barriers[i, j, 0] = losses - (losses_ + losses_0) / 2\n",
    "#         # midpoint 1\n",
    "#         state_dict = midpoint(state_dict_, state_dict_1)\n",
    "#         losses = losses_only(state_dict, train_data)\n",
    "#         train_loss_barriers[i, j, 1] = losses - (losses_ + losses_1) / 2\n",
    "#         # midpoint 2\n",
    "#         state_dict = midpoint(state_dict_0, state_dict_1)\n",
    "#         losses = losses_only(state_dict, train_data)\n",
    "#         train_loss_barriers[i, j, 2] = losses - (losses_0 + losses_1) / 2\n"
   ]
  },
  {
   "cell_type": "code",
   "execution_count": 8,
   "metadata": {},
   "outputs": [],
   "source": [
    "# np.save(\"baseline_train_loss_barriers.npy\", train_loss_barriers)"
   ]
  },
  {
   "cell_type": "code",
   "execution_count": 9,
   "metadata": {},
   "outputs": [],
   "source": [
    "def get_acc(location, name, data):\n",
    "    state_dict = utils.load_object(location, name, object_store, torch.load)\n",
    "    model = model_hparams.initialize_object()\n",
    "    model.module.load_state_dict(state_dict)\n",
    "    print(f\"      Loaded {utils.get_object_name(location, name)}\")\n",
    "    correct = 0\n",
    "    model.cuda()\n",
    "    model.eval()\n",
    "    correct = 0\n",
    "    for batch in data:\n",
    "        batch = batch[0].cuda(), batch[1].cuda()\n",
    "        logits = model(batch)\n",
    "        correct += (logits.argmax(dim=-1) == batch[1]).sum()\n",
    "    model.cpu()\n",
    "    return (correct / len(data.dataset)).item()"
   ]
  },
  {
   "cell_type": "code",
   "execution_count": 10,
   "metadata": {},
   "outputs": [],
   "source": [
    "# pretrain_test_accs = np.zeros([len(rewinding_steps), len(replicates)])\n",
    "# for i, rstep in enumerate(rewinding_steps):\n",
    "#     print(\"rewinding step:\", rstep)\n",
    "#     for j, lrep in enumerate(load_replicates):\n",
    "#         print(\"  replicate:\", lrep)\n",
    "#         # setup experiment\n",
    "#         exp.load_exp.rewinding_steps = f\"{rstep}ba\"\n",
    "#         exp.load_replicate = lrep\n",
    "#         # pretrain model accuracy\n",
    "#         location = f\"{utils.get_hash(exp.load_exp.name)}/replicate_{lrep}/level_0/main\"\n",
    "#         pretrain_test_accs[i, j] = get_acc(location, \"model_init.pt\", test_data)"
   ]
  },
  {
   "cell_type": "code",
   "execution_count": 11,
   "metadata": {},
   "outputs": [],
   "source": [
    "# np.save(\"baseline_pretrain_test_accs.npy\", pretrain_test_accs)"
   ]
  },
  {
   "cell_type": "code",
   "execution_count": 12,
   "metadata": {},
   "outputs": [],
   "source": [
    "def get_accuracy_val(exp, num_reps, object_store, level):\n",
    "    exp_hash = utils.get_hash(exp.name)\n",
    "    num_reps_seen = 0\n",
    "    steps_rt, accs_rt = [], []\n",
    "    for rep in range(num_reps):\n",
    "        if utils.object_exists_in_bucket(\n",
    "            f\"{bucket_dir}/{exp_hash}/replicate_{rep}/level_{level}/main/log.txt\", object_store\n",
    "        ):\n",
    "            num_reps_seen += 1\n",
    "            object_store.download_object(\n",
    "                f\"{bucket_dir}/{exp_hash}/replicate_{rep}/level_{level}/main/log.txt\", \"temp.txt\"\n",
    "            )\n",
    "            log = pd.read_table(\"temp.txt\", header=None)[0]\n",
    "            os.remove(\"temp.txt\")\n",
    "            steps_t, accs_t = [], []\n",
    "            for line in log:\n",
    "                match = re.search('\\[EPOCH\\]\\[step=(\\d*)\\]: { \"accuracy/val\": ([+-]?[0-9]*[.]?[0-9]+), \\}', line)\n",
    "                if match:\n",
    "                    steps_t.append(int(match.group(1)))\n",
    "                    accs_t.append(float(match.group(2)))\n",
    "            steps_rt.append(steps_t)\n",
    "            accs_rt.append(accs_t)\n",
    "            if num_reps_seen == 2:\n",
    "                break\n",
    "    steps_rt, accs_rt = np.array(steps_rt), np.array(accs_rt)\n",
    "    return steps_rt, accs_rt"
   ]
  },
  {
   "cell_type": "code",
   "execution_count": 13,
   "metadata": {},
   "outputs": [],
   "source": [
    "config = f\"../configs/lottery_cinic10.yaml\"\n",
    "num_replicates = 2\n",
    "rewinding_steps = [\"0ba\", \"200ba\", \"400ba\", \"800ba\"]\n",
    "num_levels = 16\n",
    "lrs = [0.1]\n",
    "exp = LotteryExperiment.create(f=config, cli_args=False)"
   ]
  },
  {
   "cell_type": "code",
   "execution_count": 14,
   "metadata": {},
   "outputs": [],
   "source": [
    "# accs__lr_rew_lvl_rep = []\n",
    "# for lr in lrs:\n",
    "#     print(lr)\n",
    "#     accs__rew_lvl_rep = []\n",
    "#     for rs in tqdm(rewinding_steps):\n",
    "#         accs__lvl_rep = []\n",
    "#         for lvl in range(num_levels+1):\n",
    "#             exp.pretrain_optimizer.lr = lr\n",
    "#             exp.rewinding_steps = rs\n",
    "#             _, accs_rt = get_accuracy_val(exp, num_replicates, object_store, lvl)\n",
    "#             accs__lvl_rep.append(accs_rt[:, -1])\n",
    "#         accs__rew_lvl_rep.append(accs__lvl_rep)\n",
    "#     accs__lr_rew_lvl_rep.append(accs__rew_lvl_rep)\n",
    "# sparse_test_accs = np.array(accs__lr_rew_lvl_rep).squeeze()"
   ]
  },
  {
   "cell_type": "code",
   "execution_count": 15,
   "metadata": {},
   "outputs": [],
   "source": [
    "# np.save(\"baseline_sparse_test_accs.npy\", sparse_test_accs)"
   ]
  },
  {
   "cell_type": "code",
   "execution_count": 16,
   "metadata": {},
   "outputs": [],
   "source": [
    "# config = f\"../configs/lottery_cinic10_easy_retrain.yaml\"\n",
    "# exp = LotteryRetrainExperiment.create(f=config, cli_args=False)\n",
    "# load_replicates = [0, 1]\n",
    "# replicates = [0, 1]\n",
    "# rewinding_steps = [200, 400]\n",
    "# sizes = [12800, 25600, 51200]\n",
    "# train_loss_barriers = np.zeros((len(sizes), len(rewinding_steps), len(load_replicates), 3, 50000))\n",
    "# for k, size in enumerate(sizes):\n",
    "#     print(\"size\", size)\n",
    "#     for i, rstep in enumerate(rewinding_steps):\n",
    "#         print(\"rewinding step:\", rstep)\n",
    "#         for j, lrep in enumerate(load_replicates):\n",
    "#             print(\"  replicate:\", lrep)\n",
    "#             # setup experiment\n",
    "#             exp.load_exp.rewinding_steps = f\"{rstep}ba\"\n",
    "#             exp.load_replicate = lrep\n",
    "#             exp.load_exp.pretrain_data.dataset_transforms[0].size = size\n",
    "#             # parent\n",
    "#             location = f\"{utils.get_hash(exp.load_exp.name)}/replicate_{lrep}/level_0/main\"\n",
    "#             losses_, state_dict_ = losses_and_state_dict(location, \"model_final.pt\", train_data)\n",
    "#             # child 0 \n",
    "#             location = f\"{utils.get_hash(exp.load_exp.name)}/replicate_{lrep}/level_0/{utils.get_hash(exp.name)}/replicate_{0}/main\"\n",
    "#             losses_0, state_dict_0 = losses_and_state_dict(location, \"model_final.pt\", train_data)\n",
    "#             # child 0 \n",
    "#             location = f\"{utils.get_hash(exp.load_exp.name)}/replicate_{lrep}/level_0/{utils.get_hash(exp.name)}/replicate_{1}/main\"\n",
    "#             losses_1, state_dict_1 = losses_and_state_dict(location, \"model_final.pt\", train_data)\n",
    "#             # midpoint 0\n",
    "#             state_dict = midpoint(state_dict_, state_dict_0)\n",
    "#             losses = losses_only(state_dict, train_data)\n",
    "#             train_loss_barriers[k, i, j, 0] = losses - (losses_ + losses_0) / 2\n",
    "#             # midpoint 1\n",
    "#             state_dict = midpoint(state_dict_, state_dict_1)\n",
    "#             losses = losses_only(state_dict, train_data)\n",
    "#             train_loss_barriers[k, i, j, 1] = losses - (losses_ + losses_1) / 2\n",
    "#             # midpoint 2\n",
    "#             state_dict = midpoint(state_dict_0, state_dict_1)\n",
    "#             losses = losses_only(state_dict, train_data)\n",
    "#             train_loss_barriers[k, i, j, 2] = losses - (losses_0 + losses_1) / 2\n",
    "# np.save(\"easy_train_loss_barriers.npy\", train_loss_barriers)"
   ]
  },
  {
   "cell_type": "code",
   "execution_count": 17,
   "metadata": {},
   "outputs": [],
   "source": [
    "# config = f\"../configs/lottery_cinic10_easy_retrain.yaml\"\n",
    "# exp = LotteryRetrainExperiment.create(f=config, cli_args=False)\n",
    "# load_replicates = [0, 1]\n",
    "# replicates = [0, 1]\n",
    "# rewinding_steps = [200, 400]\n",
    "# sizes = [12800, 25600, 51200]\n",
    "# pretrain_test_accs = np.zeros([len(sizes), len(rewinding_steps), len(replicates)])\n",
    "# for k, size in enumerate(sizes):\n",
    "#     print(\"size\", size)\n",
    "#     for i, rstep in enumerate(rewinding_steps):\n",
    "#         print(\"rewinding step:\", rstep)\n",
    "#         for j, lrep in enumerate(load_replicates):\n",
    "#             print(\"  replicate:\", lrep)\n",
    "#             # setup experiment\n",
    "#             exp.load_exp.rewinding_steps = f\"{rstep}ba\"\n",
    "#             exp.load_replicate = lrep\n",
    "#             exp.load_exp.pretrain_data.dataset_transforms[0].size = size\n",
    "#             # pretrain model accuracy\n",
    "#             location = f\"{utils.get_hash(exp.load_exp.name)}/replicate_{lrep}/level_0/main\"\n",
    "#             pretrain_test_accs[k, i, j] = get_acc(location, \"model_init.pt\", test_data)\n",
    "# np.save(\"easy_pretrain_test_accs.npy\", pretrain_test_accs)"
   ]
  },
  {
   "cell_type": "code",
   "execution_count": 18,
   "metadata": {},
   "outputs": [],
   "source": [
    "# config = f\"../configs/lottery_cinic10_easy.yaml\"\n",
    "# num_replicates = 2\n",
    "# rewinding_steps = [\"200ba\", \"400ba\"]\n",
    "# num_levels = 16\n",
    "# sizes = [12800, 25600, 51200]\n",
    "# exp = LotteryExperiment.create(f=config, cli_args=False)\n",
    "# accs__lr_rew_lvl_rep = []\n",
    "# for size in sizes:\n",
    "#     print(size)\n",
    "#     accs__rew_lvl_rep = []\n",
    "#     for rs in tqdm(rewinding_steps):\n",
    "#         accs__lvl_rep = []\n",
    "#         for lvl in range(num_levels+1):\n",
    "#             exp.pretrain_data.dataset_transforms[0].size = size\n",
    "#             exp.rewinding_steps = rs\n",
    "#             _, accs_rt = get_accuracy_val(exp, num_replicates, object_store, lvl)\n",
    "#             accs__lvl_rep.append(accs_rt[:, -1])\n",
    "#         accs__rew_lvl_rep.append(accs__lvl_rep)\n",
    "#     accs__lr_rew_lvl_rep.append(accs__rew_lvl_rep)\n",
    "# sparse_test_accs = np.array(accs__lr_rew_lvl_rep).squeeze()\n",
    "# np.save(\"easy_sparse_test_accs.npy\", sparse_test_accs)"
   ]
  },
  {
   "cell_type": "code",
   "execution_count": 19,
   "metadata": {},
   "outputs": [],
   "source": [
    "# config = f\"../configs/lottery_cinic10_random_retrain.yaml\"\n",
    "# exp = LotteryRetrainExperiment.create(f=config, cli_args=False)\n",
    "# load_replicates = [0, 1]\n",
    "# replicates = [0, 1]\n",
    "# rewinding_steps = [200, 400]\n",
    "# sizes = [12800, 25600, 51200]\n",
    "# train_loss_barriers = np.zeros((len(sizes), len(rewinding_steps), len(load_replicates), 3, 50000))\n",
    "# for k, size in enumerate(sizes):\n",
    "#     print(\"size\", size)\n",
    "#     for i, rstep in enumerate(rewinding_steps):\n",
    "#         print(\"rewinding step:\", rstep)\n",
    "#         for j, lrep in enumerate(load_replicates):\n",
    "#             print(\"  replicate:\", lrep)\n",
    "#             # setup experiment\n",
    "#             exp.load_exp.rewinding_steps = f\"{rstep}ba\"\n",
    "#             exp.load_replicate = lrep\n",
    "#             exp.load_exp.pretrain_data.dataset_transforms[0].size = size\n",
    "#             # parent\n",
    "#             location = f\"{utils.get_hash(exp.load_exp.name)}/replicate_{lrep}/level_0/main\"\n",
    "#             losses_, state_dict_ = losses_and_state_dict(location, \"model_final.pt\", train_data)\n",
    "#             # child 0 \n",
    "#             location = f\"{utils.get_hash(exp.load_exp.name)}/replicate_{lrep}/level_0/{utils.get_hash(exp.name)}/replicate_{0}/main\"\n",
    "#             losses_0, state_dict_0 = losses_and_state_dict(location, \"model_final.pt\", train_data)\n",
    "#             # child 0 \n",
    "#             location = f\"{utils.get_hash(exp.load_exp.name)}/replicate_{lrep}/level_0/{utils.get_hash(exp.name)}/replicate_{1}/main\"\n",
    "#             losses_1, state_dict_1 = losses_and_state_dict(location, \"model_final.pt\", train_data)\n",
    "#             # midpoint 0\n",
    "#             state_dict = midpoint(state_dict_, state_dict_0)\n",
    "#             losses = losses_only(state_dict, train_data)\n",
    "#             train_loss_barriers[k, i, j, 0] = losses - (losses_ + losses_0) / 2\n",
    "#             # midpoint 1\n",
    "#             state_dict = midpoint(state_dict_, state_dict_1)\n",
    "#             losses = losses_only(state_dict, train_data)\n",
    "#             train_loss_barriers[k, i, j, 1] = losses - (losses_ + losses_1) / 2\n",
    "#             # midpoint 2\n",
    "#             state_dict = midpoint(state_dict_0, state_dict_1)\n",
    "#             losses = losses_only(state_dict, train_data)\n",
    "#             train_loss_barriers[k, i, j, 2] = losses - (losses_0 + losses_1) / 2\n",
    "# np.save(\"random_train_loss_barriers.npy\", train_loss_barriers)"
   ]
  },
  {
   "cell_type": "code",
   "execution_count": 20,
   "metadata": {},
   "outputs": [],
   "source": [
    "# config = f\"../configs/lottery_cinic10_random_retrain.yaml\"\n",
    "# exp = LotteryRetrainExperiment.create(f=config, cli_args=False)\n",
    "# load_replicates = [0, 1]\n",
    "# replicates = [0, 1]\n",
    "# rewinding_steps = [200, 400]\n",
    "# sizes = [12800, 25600, 51200]\n",
    "# pretrain_test_accs = np.zeros([len(sizes), len(rewinding_steps), len(replicates)])\n",
    "# for k, size in enumerate(sizes):\n",
    "#     print(\"size\", size)\n",
    "#     for i, rstep in enumerate(rewinding_steps):\n",
    "#         print(\"rewinding step:\", rstep)\n",
    "#         for j, lrep in enumerate(load_replicates):\n",
    "#             print(\"  replicate:\", lrep)\n",
    "#             # setup experiment\n",
    "#             exp.load_exp.rewinding_steps = f\"{rstep}ba\"\n",
    "#             exp.load_replicate = lrep\n",
    "#             exp.load_exp.pretrain_data.dataset_transforms[0].size = size\n",
    "#             # pretrain model accuracy\n",
    "#             location = f\"{utils.get_hash(exp.load_exp.name)}/replicate_{lrep}/level_0/main\"\n",
    "#             pretrain_test_accs[k, i, j] = get_acc(location, \"model_init.pt\", test_data)\n",
    "# np.save(\"random_pretrain_test_accs.npy\", pretrain_test_accs)"
   ]
  },
  {
   "cell_type": "code",
   "execution_count": 21,
   "metadata": {},
   "outputs": [],
   "source": [
    "# config = f\"../configs/lottery_cinic10_random.yaml\"\n",
    "# num_replicates = 2\n",
    "# rewinding_steps = [\"200ba\", \"400ba\"]\n",
    "# num_levels = 16\n",
    "# sizes = [12800, 25600, 51200]\n",
    "# exp = LotteryExperiment.create(f=config, cli_args=False)\n",
    "# accs__lr_rew_lvl_rep = []\n",
    "# for size in sizes:\n",
    "#     print(size)\n",
    "#     accs__rew_lvl_rep = []\n",
    "#     for rs in tqdm(rewinding_steps):\n",
    "#         accs__lvl_rep = []\n",
    "#         for lvl in range(num_levels+1):\n",
    "#             exp.pretrain_data.dataset_transforms[0].size = size\n",
    "#             exp.rewinding_steps = rs\n",
    "#             _, accs_rt = get_accuracy_val(exp, num_replicates, object_store, lvl)\n",
    "#             accs__lvl_rep.append(accs_rt[:, -1])\n",
    "#         accs__rew_lvl_rep.append(accs__lvl_rep)\n",
    "#     accs__lr_rew_lvl_rep.append(accs__rew_lvl_rep)\n",
    "# sparse_test_accs = np.array(accs__lr_rew_lvl_rep).squeeze()\n",
    "# np.save(\"random_sparse_test_accs.npy\", sparse_test_accs)"
   ]
  },
  {
   "cell_type": "code",
   "execution_count": 22,
   "metadata": {},
   "outputs": [],
   "source": [
    "baseline_train_loss_barriers = np.load(\"baseline_train_loss_barriers.npy\")\n",
    "baseline_pretrain_test_accs = np.load(\"baseline_pretrain_test_accs.npy\")\n",
    "baseline_sparse_test_accs = np.load(\"baseline_sparse_test_accs.npy\")\n",
    "easy_train_loss_barriers = np.load(\"easy_train_loss_barriers.npy\")\n",
    "easy_pretrain_test_accs = np.load(\"easy_pretrain_test_accs.npy\")\n",
    "easy_sparse_test_accs = np.load(\"easy_sparse_test_accs.npy\")\n",
    "random_train_loss_barriers = np.load(\"random_train_loss_barriers.npy\")\n",
    "random_pretrain_test_accs = np.load(\"random_pretrain_test_accs.npy\")\n",
    "random_sparse_test_accs = np.load(\"random_sparse_test_accs.npy\")"
   ]
  },
  {
   "cell_type": "code",
   "execution_count": 23,
   "metadata": {},
   "outputs": [
    {
     "data": {
      "text/plain": [
       "[<matplotlib.lines.Line2D at 0x7f93364b27f0>]"
      ]
     },
     "execution_count": 23,
     "metadata": {},
     "output_type": "execute_result"
    },
    {
     "data": {
      "image/png": "[encoded data removed]",
      "text/plain": [
       "<Figure size 600x450 with 1 Axes>"
      ]
     },
     "metadata": {},
     "output_type": "display_data"
    },
    {
     "data": {
      "image/png": "[encoded data removed]",
      "text/plain": [
       "<Figure size 600x450 with 1 Axes>"
      ]
     },
     "metadata": {},
     "output_type": "display_data"
    }
   ],
   "source": [
    "level = 5\n",
    "plt.figure()\n",
    "plt.plot(baseline_train_loss_barriers[1:].mean(-1).mean(-1).flatten(), baseline_sparse_test_accs[1:, level].flatten(), \"C0P\", mec=\"C0\")\n",
    "plt.plot(easy_train_loss_barriers.mean(-1).mean(-1).flatten(), easy_sparse_test_accs[:, :, level].flatten(), \"C3^\", ms=8)\n",
    "plt.plot(random_train_loss_barriers.mean(-1).mean(-1).flatten(), random_sparse_test_accs[:, :, level].flatten(), \"C2o\", ms=6)\n",
    "plt.figure()\n",
    "plt.plot(baseline_pretrain_test_accs[1:].flatten(), baseline_sparse_test_accs[1:, level].flatten(), \"C0P\", mec=\"C0\")\n",
    "plt.plot(easy_pretrain_test_accs.flatten(), easy_sparse_test_accs[:, :, level].flatten(), \"C3^\", ms=8)\n",
    "plt.plot(random_pretrain_test_accs.flatten(), random_sparse_test_accs[:, :, level].flatten(), \"C2o\", ms=6)\n"
   ]
  },
  {
   "cell_type": "code",
   "execution_count": null,
   "metadata": {},
   "outputs": [],
   "source": []
  }
 ],
 "metadata": {
  "interpreter": {
   "hash": "f6ede5693076468011a9b06db16dff54c2e2dab3909e284e06b92eee2c289d4c"
  },
  "kernelspec": {
   "display_name": "Python 3.9.12 ('lth_diet')",
   "language": "python",
   "name": "python3"
  },
  "language_info": {
   "codemirror_mode": {
    "name": "ipython",
    "version": 3
   },
   "file_extension": ".py",
   "mimetype": "text/x-python",
   "name": "python",
   "nbconvert_exporter": "python",
   "pygments_lexer": "ipython3",
   "version": "3.9.12"
  },
  "orig_nbformat": 4
 },
 "nbformat": 4,
 "nbformat_minor": 2
}
