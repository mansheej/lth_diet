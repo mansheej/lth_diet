{
 "cells": [
  {
   "cell_type": "code",
   "execution_count": 1,
   "metadata": {},
   "outputs": [],
   "source": [
    "from composer.datasets.dataloader import DataLoaderHparams\n",
    "from composer.utils.object_store import ObjectStoreProviderHparams\n",
    "from lth_diet.data import CIFAR10DataHparams, CIFAR100DataHparams, DataHparams\n",
    "from lth_diet.exps import TrainExperiment\n",
    "from lth_diet.models import ClassifierHparams, ResNetClassifierHparams\n",
    "from lth_diet.utils import utils\n",
    "import matplotlib.pyplot as plt\n",
    "import numpy as np\n",
    "from numpy.typing import NDArray\n",
    "import os\n",
    "import torch\n",
    "import torch.nn.functional as F\n",
    "from tqdm import tqdm\n",
    "plt.style.use(\"default\")\n",
    "plt.style.use(\"ggplot\")"
   ]
  },
  {
   "cell_type": "code",
   "execution_count": 2,
   "metadata": {},
   "outputs": [],
   "source": [
    "# ensemble\n",
    "network = \"resnet50\"\n",
    "data = \"cifar100\"\n",
    "max_duration = \"7800ba\"\n",
    "seed = 789\n",
    "num_replicates = 16\n",
    "# scoring\n",
    "data_hparams = CIFAR100DataHparams(train=True, shuffle=False, drop_last=False, no_augment=True)\n",
    "model_hparams = ResNetClassifierHparams(num_classes=100, num_layers=50, low_res=True)"
   ]
  },
  {
   "cell_type": "code",
   "execution_count": 5,
   "metadata": {},
   "outputs": [
    {
     "name": "stdout",
     "output_type": "stream",
     "text": [
      "d4821907c8b6831a5aeaeeb0e15f3b8f\n"
     ]
    }
   ],
   "source": [
    "config = f\"/home/mansheej/lth_diet/configs/{data}_{network}.yaml\"\n",
    "exp = TrainExperiment.create(f=config, cli_args=False)\n",
    "exp.max_duration = max_duration\n",
    "exp.seed = seed\n",
    "exp_hash = utils.get_hash(exp.name)\n",
    "print(exp_hash)"
   ]
  },
  {
   "cell_type": "code",
   "execution_count": 6,
   "metadata": {},
   "outputs": [],
   "source": [
    "def calculate_scores(\n",
    "    exp_hash: str, num_replicates: int, data_hparams: DataHparams, model_hparams: ClassifierHparams\n",
    ") -> NDArray[np.float32]:\n",
    "    torch.set_grad_enabled(False)\n",
    "    object_store = ObjectStoreProviderHparams('google_storage', 'prunes', 'GCS_KEY', ).initialize_object()\n",
    "    dl = data_hparams.initialize_object(batch_size=1000, dataloader_hparams=DataLoaderHparams())\n",
    "    model = model_hparams.initialize_object()\n",
    "    scores = []\n",
    "    for r in tqdm(range(num_replicates)):\n",
    "        object_store.download_object(\n",
    "            f\"{os.environ['OBJECT_STORE_DIR']}/{exp_hash}/replicate_{r}/main/model_final.pt\", \"model.pt\"\n",
    "        )\n",
    "        model.load_state_dict(torch.load(\"model.pt\"))\n",
    "        model.cuda()\n",
    "        scores_r = []\n",
    "        for batch in dl:\n",
    "            batch = [tensor.cuda() for tensor in batch]\n",
    "            probs, targs = F.softmax(model(batch), dim=-1), F.one_hot(batch[1], model_hparams.num_classes)\n",
    "            scores_rb = torch.linalg.vector_norm(probs - targs, dim=-1)\n",
    "            scores_r.append(scores_rb)\n",
    "        scores.append(torch.cat(scores_r))\n",
    "        os.remove(\"model.pt\")\n",
    "    scores = torch.stack(scores).mean(dim=0).cpu().numpy()\n",
    "    return scores"
   ]
  },
  {
   "cell_type": "code",
   "execution_count": 7,
   "metadata": {},
   "outputs": [
    {
     "name": "stderr",
     "output_type": "stream",
     "text": [
      "100%|██████████| 16/16 [04:24<00:00, 16.52s/it]\n"
     ]
    }
   ],
   "source": [
    "scores = calculate_scores(exp_hash, num_replicates, data_hparams, model_hparams)"
   ]
  },
  {
   "cell_type": "code",
   "execution_count": 11,
   "metadata": {},
   "outputs": [],
   "source": [
    "np.save(\"scores.npy\", scores)\n",
    "target = f\"{os.environ['OBJECT_STORE_DIR']}/scores/error_norm_{data}_{network}_{max_duration}_{num_replicates}reps_seed{seed}.npy\"\n",
    "object_score = ObjectStoreProviderHparams('google_storage', 'prunes', 'GCS_KEY', ).initialize_object()\n",
    "object_score.upload_object(\"scores.npy\", target)\n",
    "os.remove(\"scores.npy\")"
   ]
  }
 ],
 "metadata": {
  "interpreter": {
   "hash": "f6ede5693076468011a9b06db16dff54c2e2dab3909e284e06b92eee2c289d4c"
  },
  "kernelspec": {
   "display_name": "Python 3.9.12 ('lth_diet')",
   "language": "python",
   "name": "python3"
  },
  "language_info": {
   "codemirror_mode": {
    "name": "ipython",
    "version": 3
   },
   "file_extension": ".py",
   "mimetype": "text/x-python",
   "name": "python",
   "nbconvert_exporter": "python",
   "pygments_lexer": "ipython3",
   "version": "3.9.12"
  },
  "orig_nbformat": 4
 },
 "nbformat": 4,
 "nbformat_minor": 2
}
