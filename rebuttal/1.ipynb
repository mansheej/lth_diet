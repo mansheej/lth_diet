{
 "cells": [
  {
   "cell_type": "code",
   "execution_count": 1,
   "metadata": {},
   "outputs": [],
   "source": [
    "import os\n",
    "import matplotlib.pyplot as plt\n",
    "import numpy as np\n",
    "import seaborn as sns\n",
    "plt.style.use(\"default\")\n",
    "rc = {\"figure.figsize\": (4, 3), \"figure.dpi\": 150, \"figure.constrained_layout.use\": True, \"axes.grid\": True, \n",
    "      \"axes.spines.right\": False, \"axes.spines.top\": False, \"axes.linewidth\": 0.6, \"grid.linewidth\": 0.6,\n",
    "      \"xtick.major.width\": 0.6, \"ytick.major.width\": 0.6, \"xtick.major.size\": 4, \"ytick.major.size\": 4, \n",
    "      \"axes.labelsize\": 14, \"axes.titlesize\": 14, \"xtick.labelsize\": 12, \"ytick.labelsize\": 12,\n",
    "      \"axes.titlepad\": 4, \"axes.labelpad\": 2, \"xtick.major.pad\": 2, \"ytick.major.pad\": 2,\n",
    "      \"lines.linewidth\": 1.2, \"patch.linewidth\": 0}\n",
    "sns.set_theme(style='ticks', palette=sns.color_palette(\"colorblind\"), rc=rc)\n",
    "import torch\n",
    "from composer import Trainer\n",
    "from composer.algorithms import ChannelsLast\n",
    "from composer.datasets import DataLoaderHparams\n",
    "from composer.optim import SGDHparams\n",
    "from composer.optim.scheduler import ConstantScheduler\n",
    "from composer.loggers import InMemoryLogger, TQDMLogger\n",
    "from composer.utils import reproducibility\n",
    "from composer.utils.object_store import ObjectStoreProviderHparams\n",
    "from lth_diet.data import CIFAR100DataHparams\n",
    "from lth_diet.data.data_diet import SubsetByScore\n",
    "from lth_diet.models import ResNetClassifierHparams\n",
    "from tqdm.notebook import tqdm\n",
    "object_store = ObjectStoreProviderHparams('google_storage', 'prunes', 'GCS_KEY').initialize_object()"
   ]
  },
  {
   "cell_type": "markdown",
   "metadata": {},
   "source": [
    "---"
   ]
  },
  {
   "cell_type": "markdown",
   "metadata": {},
   "source": [
    "Train ResNet-50 on the entire CIFAR-100 dataset for 1600 steps, saving and evaluating the model on train and test sets every 50 steps."
   ]
  },
  {
   "cell_type": "code",
   "execution_count": null,
   "metadata": {},
   "outputs": [],
   "source": [
    "# EXP_NAME = \"resnet_50__cifar100_all_data\"\n",
    "# DEVICE = \"gpu\"\n",
    "# REPLICATE = 1\n",
    "# BATCH_SIZE = 128\n",
    "# VAL_BATCH_SIZE = 1000\n",
    "# MAX_DURATION = \"400ba\"\n",
    "# INTERVAL = 10\n",
    "\n",
    "# MODEL_HPARAMS = ResNetClassifierHparams(num_classes=100, num_layers=50, low_res=True)\n",
    "# DATA_HPARMS = CIFAR100DataHparams(train=True)\n",
    "# VAL_DATA_HPARAMS = CIFAR100DataHparams(train=False)\n",
    "\n",
    "# os.makedirs(f\"../exps/rank_0/{EXP_NAME}/rep_{REPLICATE}\")\n",
    "# seed = 2022 * (REPLICATE + 1)\n",
    "# reproducibility.seed_all(seed)\n",
    "# model = MODEL_HPARAMS.initialize_object()\n",
    "# torch.save(model.state_dict(), f\"../exps/rank_0/{EXP_NAME}/rep_{REPLICATE}/ba_0.pt\")\n",
    "# reproducibility.seed_all(42)\n",
    "# dataloader = DATA_HPARMS.initialize_object(\n",
    "#     BATCH_SIZE, DataLoaderHparams(persistent_workers=False), object_store=object_store\n",
    "# )\n",
    "# val_dataloader = VAL_DATA_HPARAMS.initialize_object(VAL_BATCH_SIZE, DataLoaderHparams(persistent_workers=False))\n",
    "# optimizer = SGDHparams(lr=0.1, momentum=0.9, weight_decay=0.0005, nesterov=True).initialize_object(model.parameters())\n",
    "# scheduler = [ConstantScheduler()]\n",
    "# algorithms = [ChannelsLast()]\n",
    "# loggers = [InMemoryLogger(), TQDMLogger()]\n",
    "\n",
    "# trainer = Trainer(\n",
    "#     model = model,\n",
    "#     train_dataloader=dataloader,\n",
    "#     max_duration=MAX_DURATION,\n",
    "#     eval_dataloader=val_dataloader,\n",
    "#     algorithms=algorithms,\n",
    "#     optimizers=optimizer,\n",
    "#     schedulers=scheduler,\n",
    "#     device=DEVICE,\n",
    "#     validate_every_n_batches=INTERVAL,\n",
    "#     precision=\"amp\",\n",
    "#     step_schedulers_every_batch=True,\n",
    "#     seed=seed,\n",
    "#     loggers=loggers,\n",
    "#     save_folder=f\"{EXP_NAME}/rep_{REPLICATE}\",\n",
    "#     save_name_format=\"ba_{batch}.pt\",\n",
    "#     save_interval=f\"{INTERVAL}ba\",\n",
    "# )\n",
    "\n",
    "# trainer.fit()"
   ]
  },
  {
   "cell_type": "markdown",
   "metadata": {},
   "source": [
    "---"
   ]
  },
  {
   "cell_type": "markdown",
   "metadata": {},
   "source": [
    "Train ResNet-50 on 2048 easiest CIFAR-100 examples for 1600 steps, saving and evaluating the model on train and test sets every 50 steps."
   ]
  },
  {
   "cell_type": "code",
   "execution_count": 4,
   "metadata": {},
   "outputs": [
    {
     "data": {
      "application/vnd.jupyter.widget-view+json": {
       "model_id": "ae46d5bc9d2b47d7a7a2cc600e80a6ef",
       "version_major": 2,
       "version_minor": 0
      },
      "text/plain": [
       "Epoch 0:   0%|          | 0/16 [00:00<?, ?it/s]"
      ]
     },
     "metadata": {},
     "output_type": "display_data"
    },
    {
     "name": "stderr",
     "output_type": "stream",
     "text": [
      "/opt/conda/envs/lth_diet/lib/python3.9/site-packages/torch/optim/lr_scheduler.py:131: UserWarning: Detected call of `lr_scheduler.step()` before `optimizer.step()`. In PyTorch 1.1.0 and later, you should call them in the opposite order: `optimizer.step()` before `lr_scheduler.step()`.  Failure to do this will result in PyTorch skipping the first value of the learning rate schedule. See more details at https://pytorch.org/docs/stable/optim.html#how-to-adjust-learning-rate\n",
      "  warnings.warn(\"Detected call of `lr_scheduler.step()` before `optimizer.step()`. \"\n"
     ]
    },
    {
     "data": {
      "application/vnd.jupyter.widget-view+json": {
       "model_id": "0eab979eff8c4fb5b258a4c8cf4aee64",
       "version_major": 2,
       "version_minor": 0
      },
      "text/plain": [
       "Epoch 0, Batch 10 (val):   0%|          | 0/10 [00:00<?, ?it/s]"
      ]
     },
     "metadata": {},
     "output_type": "display_data"
    },
    {
     "data": {
      "application/vnd.jupyter.widget-view+json": {
       "model_id": "6aacec9f5fa143a5b58882dbc72acce0",
       "version_major": 2,
       "version_minor": 0
      },
      "text/plain": [
       "Epoch 1:   0%|          | 0/16 [00:00<?, ?it/s]"
      ]
     },
     "metadata": {},
     "output_type": "display_data"
    },
    {
     "data": {
      "application/vnd.jupyter.widget-view+json": {
       "model_id": "21d5f2705921432db5916f9c2862490c",
       "version_major": 2,
       "version_minor": 0
      },
      "text/plain": [
       "Epoch 1, Batch 20 (val):   0%|          | 0/10 [00:00<?, ?it/s]"
      ]
     },
     "metadata": {},
     "output_type": "display_data"
    },
    {
     "data": {
      "application/vnd.jupyter.widget-view+json": {
       "model_id": "ef930cb06f8144feb340e88476b8ef2d",
       "version_major": 2,
       "version_minor": 0
      },
      "text/plain": [
       "Epoch 1, Batch 30 (val):   0%|          | 0/10 [00:00<?, ?it/s]"
      ]
     },
     "metadata": {},
     "output_type": "display_data"
    },
    {
     "data": {
      "application/vnd.jupyter.widget-view+json": {
       "model_id": "069c5f3e06b14e61b31cfb9789308b0d",
       "version_major": 2,
       "version_minor": 0
      },
      "text/plain": [
       "Epoch 2:   0%|          | 0/16 [00:00<?, ?it/s]"
      ]
     },
     "metadata": {},
     "output_type": "display_data"
    },
    {
     "data": {
      "application/vnd.jupyter.widget-view+json": {
       "model_id": "bdb506b83270403f92a2e24661cec14b",
       "version_major": 2,
       "version_minor": 0
      },
      "text/plain": [
       "Epoch 2, Batch 40 (val):   0%|          | 0/10 [00:00<?, ?it/s]"
      ]
     },
     "metadata": {},
     "output_type": "display_data"
    },
    {
     "data": {
      "application/vnd.jupyter.widget-view+json": {
       "model_id": "528c1b324e014faf9b79baa56a391100",
       "version_major": 2,
       "version_minor": 0
      },
      "text/plain": [
       "Epoch 3:   0%|          | 0/16 [00:00<?, ?it/s]"
      ]
     },
     "metadata": {},
     "output_type": "display_data"
    },
    {
     "data": {
      "application/vnd.jupyter.widget-view+json": {
       "model_id": "718d3c33fe2f4e449ad6b6bda177aafd",
       "version_major": 2,
       "version_minor": 0
      },
      "text/plain": [
       "Epoch 3, Batch 50 (val):   0%|          | 0/10 [00:00<?, ?it/s]"
      ]
     },
     "metadata": {},
     "output_type": "display_data"
    },
    {
     "data": {
      "application/vnd.jupyter.widget-view+json": {
       "model_id": "af2259f63b2c48b99f5a3f378954aa84",
       "version_major": 2,
       "version_minor": 0
      },
      "text/plain": [
       "Epoch 3, Batch 60 (val):   0%|          | 0/10 [00:00<?, ?it/s]"
      ]
     },
     "metadata": {},
     "output_type": "display_data"
    },
    {
     "data": {
      "application/vnd.jupyter.widget-view+json": {
       "model_id": "4a9739be5370478e9f45ea848474cd23",
       "version_major": 2,
       "version_minor": 0
      },
      "text/plain": [
       "Epoch 4:   0%|          | 0/16 [00:00<?, ?it/s]"
      ]
     },
     "metadata": {},
     "output_type": "display_data"
    },
    {
     "data": {
      "application/vnd.jupyter.widget-view+json": {
       "model_id": "e20791804cac4fcf97ef119e34dea84a",
       "version_major": 2,
       "version_minor": 0
      },
      "text/plain": [
       "Epoch 4, Batch 70 (val):   0%|          | 0/10 [00:00<?, ?it/s]"
      ]
     },
     "metadata": {},
     "output_type": "display_data"
    },
    {
     "data": {
      "application/vnd.jupyter.widget-view+json": {
       "model_id": "410f659c97904cfb8b0e902cee082362",
       "version_major": 2,
       "version_minor": 0
      },
      "text/plain": [
       "Epoch 4, Batch 80 (val):   0%|          | 0/10 [00:00<?, ?it/s]"
      ]
     },
     "metadata": {},
     "output_type": "display_data"
    },
    {
     "data": {
      "application/vnd.jupyter.widget-view+json": {
       "model_id": "923ecca41e18419690c3e47cdb20cda8",
       "version_major": 2,
       "version_minor": 0
      },
      "text/plain": [
       "Epoch 5:   0%|          | 0/16 [00:00<?, ?it/s]"
      ]
     },
     "metadata": {},
     "output_type": "display_data"
    },
    {
     "data": {
      "application/vnd.jupyter.widget-view+json": {
       "model_id": "1ae09aac0c9a4bf7ad257945b2ec4489",
       "version_major": 2,
       "version_minor": 0
      },
      "text/plain": [
       "Epoch 5, Batch 90 (val):   0%|          | 0/10 [00:00<?, ?it/s]"
      ]
     },
     "metadata": {},
     "output_type": "display_data"
    },
    {
     "data": {
      "application/vnd.jupyter.widget-view+json": {
       "model_id": "1d3fc98303124277806f739653cb2c4f",
       "version_major": 2,
       "version_minor": 0
      },
      "text/plain": [
       "Epoch 6:   0%|          | 0/16 [00:00<?, ?it/s]"
      ]
     },
     "metadata": {},
     "output_type": "display_data"
    },
    {
     "data": {
      "application/vnd.jupyter.widget-view+json": {
       "model_id": "ba040b8845654cd8925bd3f77168f21b",
       "version_major": 2,
       "version_minor": 0
      },
      "text/plain": [
       "Epoch 6, Batch 100 (val):   0%|          | 0/10 [00:00<?, ?it/s]"
      ]
     },
     "metadata": {},
     "output_type": "display_data"
    },
    {
     "data": {
      "application/vnd.jupyter.widget-view+json": {
       "model_id": "4cae2565691347eb8c6e7524c808b88c",
       "version_major": 2,
       "version_minor": 0
      },
      "text/plain": [
       "Epoch 6, Batch 110 (val):   0%|          | 0/10 [00:00<?, ?it/s]"
      ]
     },
     "metadata": {},
     "output_type": "display_data"
    },
    {
     "data": {
      "application/vnd.jupyter.widget-view+json": {
       "model_id": "21c0d4a36b5a48b08de2d74a407af38a",
       "version_major": 2,
       "version_minor": 0
      },
      "text/plain": [
       "Epoch 7:   0%|          | 0/16 [00:00<?, ?it/s]"
      ]
     },
     "metadata": {},
     "output_type": "display_data"
    },
    {
     "data": {
      "application/vnd.jupyter.widget-view+json": {
       "model_id": "27a4702aafe64588bc875c40c1d91bb6",
       "version_major": 2,
       "version_minor": 0
      },
      "text/plain": [
       "Epoch 7, Batch 120 (val):   0%|          | 0/10 [00:00<?, ?it/s]"
      ]
     },
     "metadata": {},
     "output_type": "display_data"
    },
    {
     "data": {
      "application/vnd.jupyter.widget-view+json": {
       "model_id": "7ec4c5f0425e4a3c8659423e943db2ae",
       "version_major": 2,
       "version_minor": 0
      },
      "text/plain": [
       "Epoch 8:   0%|          | 0/16 [00:00<?, ?it/s]"
      ]
     },
     "metadata": {},
     "output_type": "display_data"
    },
    {
     "data": {
      "application/vnd.jupyter.widget-view+json": {
       "model_id": "5bb8bdd2d14940a6bc5189de8f114622",
       "version_major": 2,
       "version_minor": 0
      },
      "text/plain": [
       "Epoch 8, Batch 130 (val):   0%|          | 0/10 [00:00<?, ?it/s]"
      ]
     },
     "metadata": {},
     "output_type": "display_data"
    },
    {
     "data": {
      "application/vnd.jupyter.widget-view+json": {
       "model_id": "ab5599f5c4674453b96aa3d46737fa6d",
       "version_major": 2,
       "version_minor": 0
      },
      "text/plain": [
       "Epoch 8, Batch 140 (val):   0%|          | 0/10 [00:00<?, ?it/s]"
      ]
     },
     "metadata": {},
     "output_type": "display_data"
    },
    {
     "data": {
      "application/vnd.jupyter.widget-view+json": {
       "model_id": "eca0eb2c1f9b47ae806daef2fee6960f",
       "version_major": 2,
       "version_minor": 0
      },
      "text/plain": [
       "Epoch 9:   0%|          | 0/16 [00:00<?, ?it/s]"
      ]
     },
     "metadata": {},
     "output_type": "display_data"
    },
    {
     "data": {
      "application/vnd.jupyter.widget-view+json": {
       "model_id": "b9eeb9e8e9cc4c09ba242040bae137ba",
       "version_major": 2,
       "version_minor": 0
      },
      "text/plain": [
       "Epoch 9, Batch 150 (val):   0%|          | 0/10 [00:00<?, ?it/s]"
      ]
     },
     "metadata": {},
     "output_type": "display_data"
    },
    {
     "data": {
      "application/vnd.jupyter.widget-view+json": {
       "model_id": "2265c030d79b4adcbbb11306d0cc2222",
       "version_major": 2,
       "version_minor": 0
      },
      "text/plain": [
       "Epoch 9, Batch 160 (val):   0%|          | 0/10 [00:00<?, ?it/s]"
      ]
     },
     "metadata": {},
     "output_type": "display_data"
    },
    {
     "data": {
      "application/vnd.jupyter.widget-view+json": {
       "model_id": "820201da9fe94ec6ad6e7c18b28212a6",
       "version_major": 2,
       "version_minor": 0
      },
      "text/plain": [
       "Epoch 10:   0%|          | 0/16 [00:00<?, ?it/s]"
      ]
     },
     "metadata": {},
     "output_type": "display_data"
    },
    {
     "data": {
      "application/vnd.jupyter.widget-view+json": {
       "model_id": "709db4351b784a378fc194ea7084c8dd",
       "version_major": 2,
       "version_minor": 0
      },
      "text/plain": [
       "Epoch 10, Batch 170 (val):   0%|          | 0/10 [00:00<?, ?it/s]"
      ]
     },
     "metadata": {},
     "output_type": "display_data"
    },
    {
     "data": {
      "application/vnd.jupyter.widget-view+json": {
       "model_id": "11cf071fd3174b4e9fe3fa60cde26e3c",
       "version_major": 2,
       "version_minor": 0
      },
      "text/plain": [
       "Epoch 11:   0%|          | 0/16 [00:00<?, ?it/s]"
      ]
     },
     "metadata": {},
     "output_type": "display_data"
    },
    {
     "data": {
      "application/vnd.jupyter.widget-view+json": {
       "model_id": "4052ea3c6fd04e8fb3c1aa325d31f201",
       "version_major": 2,
       "version_minor": 0
      },
      "text/plain": [
       "Epoch 11, Batch 180 (val):   0%|          | 0/10 [00:00<?, ?it/s]"
      ]
     },
     "metadata": {},
     "output_type": "display_data"
    },
    {
     "data": {
      "application/vnd.jupyter.widget-view+json": {
       "model_id": "088d1a08253e48f69f9e4664b4c89733",
       "version_major": 2,
       "version_minor": 0
      },
      "text/plain": [
       "Epoch 11, Batch 190 (val):   0%|          | 0/10 [00:00<?, ?it/s]"
      ]
     },
     "metadata": {},
     "output_type": "display_data"
    },
    {
     "data": {
      "application/vnd.jupyter.widget-view+json": {
       "model_id": "5a022ffdad8345098e4b74de5aa7110b",
       "version_major": 2,
       "version_minor": 0
      },
      "text/plain": [
       "Epoch 12:   0%|          | 0/16 [00:00<?, ?it/s]"
      ]
     },
     "metadata": {},
     "output_type": "display_data"
    },
    {
     "data": {
      "application/vnd.jupyter.widget-view+json": {
       "model_id": "5a6b03fc31fc4b05b3d03ba790ade735",
       "version_major": 2,
       "version_minor": 0
      },
      "text/plain": [
       "Epoch 12, Batch 200 (val):   0%|          | 0/10 [00:00<?, ?it/s]"
      ]
     },
     "metadata": {},
     "output_type": "display_data"
    },
    {
     "data": {
      "application/vnd.jupyter.widget-view+json": {
       "model_id": "fae238804a4f4bd087cda9909d6834ca",
       "version_major": 2,
       "version_minor": 0
      },
      "text/plain": [
       "Epoch 13:   0%|          | 0/16 [00:00<?, ?it/s]"
      ]
     },
     "metadata": {},
     "output_type": "display_data"
    },
    {
     "data": {
      "application/vnd.jupyter.widget-view+json": {
       "model_id": "78646fef675c4b59920e1e7e881ffb09",
       "version_major": 2,
       "version_minor": 0
      },
      "text/plain": [
       "Epoch 13, Batch 210 (val):   0%|          | 0/10 [00:00<?, ?it/s]"
      ]
     },
     "metadata": {},
     "output_type": "display_data"
    },
    {
     "data": {
      "application/vnd.jupyter.widget-view+json": {
       "model_id": "d264632951c643c887dc20c244b8c67d",
       "version_major": 2,
       "version_minor": 0
      },
      "text/plain": [
       "Epoch 13, Batch 220 (val):   0%|          | 0/10 [00:00<?, ?it/s]"
      ]
     },
     "metadata": {},
     "output_type": "display_data"
    },
    {
     "data": {
      "application/vnd.jupyter.widget-view+json": {
       "model_id": "e796a96f66fa4a6a9ec4fafa2376999a",
       "version_major": 2,
       "version_minor": 0
      },
      "text/plain": [
       "Epoch 14:   0%|          | 0/16 [00:00<?, ?it/s]"
      ]
     },
     "metadata": {},
     "output_type": "display_data"
    },
    {
     "data": {
      "application/vnd.jupyter.widget-view+json": {
       "model_id": "6752cca76ad446a0adbf871a87646565",
       "version_major": 2,
       "version_minor": 0
      },
      "text/plain": [
       "Epoch 14, Batch 230 (val):   0%|          | 0/10 [00:00<?, ?it/s]"
      ]
     },
     "metadata": {},
     "output_type": "display_data"
    },
    {
     "data": {
      "application/vnd.jupyter.widget-view+json": {
       "model_id": "a1d9d7ce2ab84662bcff2c1e693f7854",
       "version_major": 2,
       "version_minor": 0
      },
      "text/plain": [
       "Epoch 14, Batch 240 (val):   0%|          | 0/10 [00:00<?, ?it/s]"
      ]
     },
     "metadata": {},
     "output_type": "display_data"
    },
    {
     "data": {
      "application/vnd.jupyter.widget-view+json": {
       "model_id": "8763bb4de92b4690a92ec235cdaa645e",
       "version_major": 2,
       "version_minor": 0
      },
      "text/plain": [
       "Epoch 15:   0%|          | 0/16 [00:00<?, ?it/s]"
      ]
     },
     "metadata": {},
     "output_type": "display_data"
    },
    {
     "data": {
      "application/vnd.jupyter.widget-view+json": {
       "model_id": "7f4b9800986348d7a35392a77f75211b",
       "version_major": 2,
       "version_minor": 0
      },
      "text/plain": [
       "Epoch 15, Batch 250 (val):   0%|          | 0/10 [00:00<?, ?it/s]"
      ]
     },
     "metadata": {},
     "output_type": "display_data"
    },
    {
     "data": {
      "application/vnd.jupyter.widget-view+json": {
       "model_id": "bc6098d8e8f845ba91ba38f9774f1015",
       "version_major": 2,
       "version_minor": 0
      },
      "text/plain": [
       "Epoch 16:   0%|          | 0/16 [00:00<?, ?it/s]"
      ]
     },
     "metadata": {},
     "output_type": "display_data"
    },
    {
     "data": {
      "application/vnd.jupyter.widget-view+json": {
       "model_id": "a8144423bc7c48c691624df490267c8b",
       "version_major": 2,
       "version_minor": 0
      },
      "text/plain": [
       "Epoch 16, Batch 260 (val):   0%|          | 0/10 [00:00<?, ?it/s]"
      ]
     },
     "metadata": {},
     "output_type": "display_data"
    },
    {
     "data": {
      "application/vnd.jupyter.widget-view+json": {
       "model_id": "87a294ee03b64adbb856cf0ca2fd91e6",
       "version_major": 2,
       "version_minor": 0
      },
      "text/plain": [
       "Epoch 16, Batch 270 (val):   0%|          | 0/10 [00:00<?, ?it/s]"
      ]
     },
     "metadata": {},
     "output_type": "display_data"
    },
    {
     "data": {
      "application/vnd.jupyter.widget-view+json": {
       "model_id": "90b40065b2514a30888c96ee65678452",
       "version_major": 2,
       "version_minor": 0
      },
      "text/plain": [
       "Epoch 17:   0%|          | 0/16 [00:00<?, ?it/s]"
      ]
     },
     "metadata": {},
     "output_type": "display_data"
    },
    {
     "data": {
      "application/vnd.jupyter.widget-view+json": {
       "model_id": "44c231f2f03e463f8b9448e5bf708b76",
       "version_major": 2,
       "version_minor": 0
      },
      "text/plain": [
       "Epoch 17, Batch 280 (val):   0%|          | 0/10 [00:00<?, ?it/s]"
      ]
     },
     "metadata": {},
     "output_type": "display_data"
    },
    {
     "data": {
      "application/vnd.jupyter.widget-view+json": {
       "model_id": "797d9792c93044dea0bfea1d6a67418d",
       "version_major": 2,
       "version_minor": 0
      },
      "text/plain": [
       "Epoch 18:   0%|          | 0/16 [00:00<?, ?it/s]"
      ]
     },
     "metadata": {},
     "output_type": "display_data"
    },
    {
     "data": {
      "application/vnd.jupyter.widget-view+json": {
       "model_id": "c2a0e2607198462da7316fcf74e49c29",
       "version_major": 2,
       "version_minor": 0
      },
      "text/plain": [
       "Epoch 18, Batch 290 (val):   0%|          | 0/10 [00:00<?, ?it/s]"
      ]
     },
     "metadata": {},
     "output_type": "display_data"
    },
    {
     "data": {
      "application/vnd.jupyter.widget-view+json": {
       "model_id": "369227cebff947e1951d46fd29f2ad58",
       "version_major": 2,
       "version_minor": 0
      },
      "text/plain": [
       "Epoch 18, Batch 300 (val):   0%|          | 0/10 [00:00<?, ?it/s]"
      ]
     },
     "metadata": {},
     "output_type": "display_data"
    },
    {
     "data": {
      "application/vnd.jupyter.widget-view+json": {
       "model_id": "16e9b897ae984e7daa7127428dccad7b",
       "version_major": 2,
       "version_minor": 0
      },
      "text/plain": [
       "Epoch 19:   0%|          | 0/16 [00:00<?, ?it/s]"
      ]
     },
     "metadata": {},
     "output_type": "display_data"
    },
    {
     "data": {
      "application/vnd.jupyter.widget-view+json": {
       "model_id": "e14d0573b5ec4b40be475f56f72962d8",
       "version_major": 2,
       "version_minor": 0
      },
      "text/plain": [
       "Epoch 19, Batch 310 (val):   0%|          | 0/10 [00:00<?, ?it/s]"
      ]
     },
     "metadata": {},
     "output_type": "display_data"
    },
    {
     "data": {
      "application/vnd.jupyter.widget-view+json": {
       "model_id": "71abb81b00dc466d890a070d7a4c14f4",
       "version_major": 2,
       "version_minor": 0
      },
      "text/plain": [
       "Epoch 19, Batch 320 (val):   0%|          | 0/10 [00:00<?, ?it/s]"
      ]
     },
     "metadata": {},
     "output_type": "display_data"
    },
    {
     "data": {
      "application/vnd.jupyter.widget-view+json": {
       "model_id": "b24ec7962deb44eca8e26788a0794a8e",
       "version_major": 2,
       "version_minor": 0
      },
      "text/plain": [
       "Epoch 20:   0%|          | 0/16 [00:00<?, ?it/s]"
      ]
     },
     "metadata": {},
     "output_type": "display_data"
    },
    {
     "data": {
      "application/vnd.jupyter.widget-view+json": {
       "model_id": "2623f04d96ff44869cc617e4ed822a46",
       "version_major": 2,
       "version_minor": 0
      },
      "text/plain": [
       "Epoch 20, Batch 330 (val):   0%|          | 0/10 [00:00<?, ?it/s]"
      ]
     },
     "metadata": {},
     "output_type": "display_data"
    },
    {
     "data": {
      "application/vnd.jupyter.widget-view+json": {
       "model_id": "084a5dc2e0df4a11858f4939f0fd6926",
       "version_major": 2,
       "version_minor": 0
      },
      "text/plain": [
       "Epoch 21:   0%|          | 0/16 [00:00<?, ?it/s]"
      ]
     },
     "metadata": {},
     "output_type": "display_data"
    },
    {
     "data": {
      "application/vnd.jupyter.widget-view+json": {
       "model_id": "1dbd616f6bc641c4989798e363f62252",
       "version_major": 2,
       "version_minor": 0
      },
      "text/plain": [
       "Epoch 21, Batch 340 (val):   0%|          | 0/10 [00:00<?, ?it/s]"
      ]
     },
     "metadata": {},
     "output_type": "display_data"
    },
    {
     "data": {
      "application/vnd.jupyter.widget-view+json": {
       "model_id": "cede183ce84e4503992e92221777d113",
       "version_major": 2,
       "version_minor": 0
      },
      "text/plain": [
       "Epoch 21, Batch 350 (val):   0%|          | 0/10 [00:00<?, ?it/s]"
      ]
     },
     "metadata": {},
     "output_type": "display_data"
    },
    {
     "data": {
      "application/vnd.jupyter.widget-view+json": {
       "model_id": "d86df0ea198148f3baf4f71449c50cea",
       "version_major": 2,
       "version_minor": 0
      },
      "text/plain": [
       "Epoch 22:   0%|          | 0/16 [00:00<?, ?it/s]"
      ]
     },
     "metadata": {},
     "output_type": "display_data"
    },
    {
     "data": {
      "application/vnd.jupyter.widget-view+json": {
       "model_id": "84a820d5c57d480a9ccdb1fc136810a8",
       "version_major": 2,
       "version_minor": 0
      },
      "text/plain": [
       "Epoch 22, Batch 360 (val):   0%|          | 0/10 [00:00<?, ?it/s]"
      ]
     },
     "metadata": {},
     "output_type": "display_data"
    },
    {
     "data": {
      "application/vnd.jupyter.widget-view+json": {
       "model_id": "b57f30f74dc841bdbbc3301ebdb96169",
       "version_major": 2,
       "version_minor": 0
      },
      "text/plain": [
       "Epoch 23:   0%|          | 0/16 [00:00<?, ?it/s]"
      ]
     },
     "metadata": {},
     "output_type": "display_data"
    },
    {
     "data": {
      "application/vnd.jupyter.widget-view+json": {
       "model_id": "1c685c0abc634339a340bb0dd250430a",
       "version_major": 2,
       "version_minor": 0
      },
      "text/plain": [
       "Epoch 23, Batch 370 (val):   0%|          | 0/10 [00:00<?, ?it/s]"
      ]
     },
     "metadata": {},
     "output_type": "display_data"
    },
    {
     "data": {
      "application/vnd.jupyter.widget-view+json": {
       "model_id": "64f84b908fc2464b8da99af98b0a73ec",
       "version_major": 2,
       "version_minor": 0
      },
      "text/plain": [
       "Epoch 23, Batch 380 (val):   0%|          | 0/10 [00:00<?, ?it/s]"
      ]
     },
     "metadata": {},
     "output_type": "display_data"
    },
    {
     "data": {
      "application/vnd.jupyter.widget-view+json": {
       "model_id": "4f381632ba504988b6aae62ce56508b7",
       "version_major": 2,
       "version_minor": 0
      },
      "text/plain": [
       "Epoch 24:   0%|          | 0/16 [00:00<?, ?it/s]"
      ]
     },
     "metadata": {},
     "output_type": "display_data"
    },
    {
     "data": {
      "application/vnd.jupyter.widget-view+json": {
       "model_id": "44b158e1de1946a9a5de05e8d550090f",
       "version_major": 2,
       "version_minor": 0
      },
      "text/plain": [
       "Epoch 24, Batch 390 (val):   0%|          | 0/10 [00:00<?, ?it/s]"
      ]
     },
     "metadata": {},
     "output_type": "display_data"
    },
    {
     "data": {
      "application/vnd.jupyter.widget-view+json": {
       "model_id": "6f5a45277a474adb844cfff25324795a",
       "version_major": 2,
       "version_minor": 0
      },
      "text/plain": [
       "Epoch 24, Batch 400 (val):   0%|          | 0/10 [00:00<?, ?it/s]"
      ]
     },
     "metadata": {},
     "output_type": "display_data"
    }
   ],
   "source": [
    "EXP_NAME = \"resnet_50__cifar100_easy_data\"\n",
    "DEVICE = \"gpu\"\n",
    "REPLICATE = 1\n",
    "SUBSET_SIZE = 2048\n",
    "BATCH_SIZE = 128\n",
    "VAL_BATCH_SIZE = 1000\n",
    "MAX_DURATION = \"400ba\"\n",
    "INTERVAL = 10\n",
    "\n",
    "MODEL_HPARAMS = ResNetClassifierHparams(num_classes=100, num_layers=50, low_res=True)\n",
    "DATA_TRANSFORMS = [\n",
    "    SubsetByScore(score=\"error_norm_cifar100_resnet50_7800ba_16reps_seed789\", size=SUBSET_SIZE, class_balanced=True)\n",
    "]\n",
    "DATA_HPARMS = CIFAR100DataHparams(train=True, dataset_transforms=DATA_TRANSFORMS)\n",
    "VAL_DATA_HPARAMS = CIFAR100DataHparams(train=False)\n",
    "\n",
    "os.makedirs(f\"../exps/rank_0/{EXP_NAME}/rep_{REPLICATE}\", exist_ok=True)\n",
    "seed = 2022 * (REPLICATE + 1)\n",
    "reproducibility.seed_all(seed)\n",
    "model = MODEL_HPARAMS.initialize_object()\n",
    "torch.save(model.state_dict(), f\"../exps/rank_0/{EXP_NAME}/rep_{REPLICATE}/ba_0.pt\")\n",
    "reproducibility.seed_all(42)\n",
    "dataloader = DATA_HPARMS.initialize_object(\n",
    "    BATCH_SIZE, DataLoaderHparams(persistent_workers=False), object_store=object_store\n",
    ")\n",
    "val_dataloader = VAL_DATA_HPARAMS.initialize_object(VAL_BATCH_SIZE, DataLoaderHparams(persistent_workers=False))\n",
    "optimizer = SGDHparams(lr=0.1, momentum=0.9, weight_decay=0.0005, nesterov=True).initialize_object(model.parameters())\n",
    "scheduler = [ConstantScheduler()]\n",
    "algorithms = [ChannelsLast()]\n",
    "loggers = [InMemoryLogger(), TQDMLogger()]\n",
    "\n",
    "trainer = Trainer(\n",
    "    model = model,\n",
    "    train_dataloader=dataloader,\n",
    "    max_duration=MAX_DURATION,\n",
    "    eval_dataloader=val_dataloader,\n",
    "    algorithms=algorithms,\n",
    "    optimizers=optimizer,\n",
    "    schedulers=scheduler,\n",
    "    device=DEVICE,\n",
    "    validate_every_n_batches=INTERVAL,\n",
    "    validate_every_n_epochs=-1,\n",
    "    precision=\"amp\",\n",
    "    step_schedulers_every_batch=True,\n",
    "    seed=seed,\n",
    "    loggers=loggers,\n",
    "    save_folder=f\"{EXP_NAME}/rep_{REPLICATE}\",\n",
    "    save_name_format=\"ba_{batch}.pt\",\n",
    "    save_interval=f\"{INTERVAL}ba\",\n",
    ")\n",
    "\n",
    "trainer.fit()"
   ]
  },
  {
   "cell_type": "markdown",
   "metadata": {},
   "source": [
    "---"
   ]
  },
  {
   "cell_type": "markdown",
   "metadata": {},
   "source": [
    "Evaluation"
   ]
  },
  {
   "cell_type": "code",
   "execution_count": 5,
   "metadata": {},
   "outputs": [],
   "source": [
    "# torch.set_grad_enabled(False)"
   ]
  },
  {
   "cell_type": "code",
   "execution_count": 6,
   "metadata": {},
   "outputs": [],
   "source": [
    "# def evaluate(step):\n",
    "    \n",
    "#     model = MODEL_HPARAMS.initialize_object()\n",
    "#     state_dict = torch.load(f\"../exps/rank_0/{EXP_NAME}/rep_{REPLICATE}/ba_{step}.pt\")[\"state\"][\"model\"]\n",
    "#     model.load_state_dict(state_dict)\n",
    "#     model = model.cuda()\n",
    "#     model = model.eval()\n",
    "    \n",
    "#     dataloader = DATA_HPARAMS.initialize_object(\n",
    "#         BATCH_SIZE, DataLoaderHparams(persistent_workers=False), object_store=object_store\n",
    "#     )\n",
    "    \n",
    "#     loss, acc = 0, 0\n",
    "#     for x, y in tqdm(dataloader):\n",
    "#         x, y = x.cuda(), y.cuda()\n",
    "#         logits = model((x, y))\n",
    "#         loss += model.loss(logits, (x, y))\n",
    "#         acc += (y == logits.argmax(-1)).sum()\n",
    "        \n",
    "#     loss = loss.item() / len(dataloader.dataset)\n",
    "#     acc = acc.item() / len(dataloader.dataset)\n",
    "    \n",
    "#     return loss, acc"
   ]
  },
  {
   "cell_type": "code",
   "execution_count": 7,
   "metadata": {},
   "outputs": [],
   "source": [
    "# RESULTS = {}\n",
    "# RESULTS[\"steps\"] = np.arange(50, 1650, 50)"
   ]
  },
  {
   "cell_type": "markdown",
   "metadata": {},
   "source": [
    "---"
   ]
  },
  {
   "cell_type": "markdown",
   "metadata": {},
   "source": [
    "Test loss and accuracy of model trained on all data."
   ]
  },
  {
   "cell_type": "code",
   "execution_count": null,
   "metadata": {},
   "outputs": [],
   "source": [
    "# EXP_NAME = \"resnet_50__cifar100_all_data\"\n",
    "# DEVICE = \"gpu\"\n",
    "# REPLICATE = 0\n",
    "# BATCH_SIZE = 1000\n",
    "\n",
    "# MODEL_HPARAMS = ResNetClassifierHparams(num_classes=100, num_layers=50, low_res=True)\n",
    "# DATA_HPARAMS = CIFAR100DataHparams(train=False)\n",
    "\n",
    "# losses, accs = [], []\n",
    "# for step in RESULTS[\"steps\"]:\n",
    "#     print(step)\n",
    "#     loss, acc = evaluate(step)\n",
    "#     losses.append(loss)\n",
    "#     accs.append(acc)\n",
    "    \n",
    "# losses, accs = np.array(losses), np.array(accs)"
   ]
  },
  {
   "cell_type": "code",
   "execution_count": null,
   "metadata": {},
   "outputs": [],
   "source": [
    "# RESULTS[\"train_all_test_loss\"] = losses\n",
    "# RESULTS[\"train_all_test_acc\"] = accs"
   ]
  },
  {
   "cell_type": "markdown",
   "metadata": {},
   "source": [
    "Test loss and accuracy of model trained on easy data."
   ]
  },
  {
   "cell_type": "code",
   "execution_count": null,
   "metadata": {},
   "outputs": [],
   "source": [
    "# EXP_NAME = \"resnet_50__cifar100_easy_data\"\n",
    "# DEVICE = \"gpu\"\n",
    "# REPLICATE = 0\n",
    "# BATCH_SIZE = 1000\n",
    "\n",
    "# MODEL_HPARAMS = ResNetClassifierHparams(num_classes=100, num_layers=50, low_res=True)\n",
    "# DATA_HPARAMS = CIFAR100DataHparams(train=False)\n",
    "\n",
    "# losses, accs = [], []\n",
    "# for step in RESULTS[\"steps\"]:\n",
    "#     print(step)\n",
    "#     loss, acc = evaluate(step)\n",
    "#     losses.append(loss)\n",
    "#     accs.append(acc)\n",
    "    \n",
    "# losses, accs = np.array(losses), np.array(accs)"
   ]
  },
  {
   "cell_type": "code",
   "execution_count": null,
   "metadata": {},
   "outputs": [],
   "source": [
    "# RESULTS[\"train_easy_test_loss\"] = losses\n",
    "# RESULTS[\"train_easy_test_acc\"] = accs"
   ]
  },
  {
   "cell_type": "markdown",
   "metadata": {},
   "source": [
    "Train loss and accuracy on all data of model trained on all data."
   ]
  },
  {
   "cell_type": "code",
   "execution_count": null,
   "metadata": {},
   "outputs": [],
   "source": [
    "# EXP_NAME = \"resnet_50__cifar100_all_data\"\n",
    "# DEVICE = \"gpu\"\n",
    "# REPLICATE = 0\n",
    "# BATCH_SIZE = 1000\n",
    "\n",
    "# MODEL_HPARAMS = ResNetClassifierHparams(num_classes=100, num_layers=50, low_res=True)\n",
    "# DATA_HPARAMS = CIFAR100DataHparams(train=True, shuffle=False, drop_last=False, no_augment=True)\n",
    "\n",
    "# losses, accs = [], []\n",
    "# for step in RESULTS[\"steps\"]:\n",
    "#     print(step)\n",
    "#     loss, acc = evaluate(step)\n",
    "#     losses.append(loss)\n",
    "#     accs.append(acc)\n",
    "    \n",
    "# losses, accs = np.array(losses), np.array(accs)"
   ]
  },
  {
   "cell_type": "code",
   "execution_count": null,
   "metadata": {},
   "outputs": [],
   "source": [
    "# RESULTS[\"train_all_train_all_loss\"] = losses\n",
    "# RESULTS[\"train_all_train_all_acc\"] = accs"
   ]
  },
  {
   "cell_type": "markdown",
   "metadata": {},
   "source": [
    "Train loss and accuracy on all data of model trained on easy data."
   ]
  },
  {
   "cell_type": "code",
   "execution_count": null,
   "metadata": {},
   "outputs": [],
   "source": [
    "# EXP_NAME = \"resnet_50__cifar100_easy_data\"\n",
    "# DEVICE = \"gpu\"\n",
    "# REPLICATE = 0\n",
    "# BATCH_SIZE = 1000\n",
    "\n",
    "# MODEL_HPARAMS = ResNetClassifierHparams(num_classes=100, num_layers=50, low_res=True)\n",
    "# DATA_HPARAMS = CIFAR100DataHparams(train=True, shuffle=False, drop_last=False, no_augment=True)\n",
    "\n",
    "# losses, accs = [], []\n",
    "# for step in RESULTS[\"steps\"]:\n",
    "#     print(step)\n",
    "#     loss, acc = evaluate(step)\n",
    "#     losses.append(loss)\n",
    "#     accs.append(acc)\n",
    "    \n",
    "# losses, accs = np.array(losses), np.array(accs)"
   ]
  },
  {
   "cell_type": "code",
   "execution_count": null,
   "metadata": {},
   "outputs": [],
   "source": [
    "# RESULTS[\"train_easy_train_all_loss\"] = losses\n",
    "# RESULTS[\"train_easy_train_all_acc\"] = accs"
   ]
  },
  {
   "cell_type": "markdown",
   "metadata": {},
   "source": [
    "Train loss and accuracy on easy data of model trained on all data."
   ]
  },
  {
   "cell_type": "code",
   "execution_count": null,
   "metadata": {},
   "outputs": [],
   "source": [
    "# EXP_NAME = \"resnet_50__cifar100_all_data\"\n",
    "# DEVICE = \"gpu\"\n",
    "# REPLICATE = 0\n",
    "# SUBSET_SIZE = 2048\n",
    "# BATCH_SIZE = 1000\n",
    "\n",
    "# MODEL_HPARAMS = ResNetClassifierHparams(num_classes=100, num_layers=50, low_res=True)\n",
    "# DATA_TRANSFORMS = [\n",
    "#     SubsetByScore(score=\"error_norm_cifar100_resnet50_7800ba_16reps_seed789\", size=SUBSET_SIZE, class_balanced=True)\n",
    "# ]\n",
    "# DATA_HPARAMS = CIFAR100DataHparams(\n",
    "#     train=True, shuffle=False, drop_last=False, no_augment=True, dataset_transforms=DATA_TRANSFORMS\n",
    "# )\n",
    "\n",
    "# losses, accs = [], []\n",
    "# for step in RESULTS[\"steps\"]:\n",
    "#     print(step)\n",
    "#     loss, acc = evaluate(step)\n",
    "#     losses.append(loss)\n",
    "#     accs.append(acc)\n",
    "    \n",
    "# losses, accs = np.array(losses), np.array(accs)"
   ]
  },
  {
   "cell_type": "code",
   "execution_count": null,
   "metadata": {},
   "outputs": [],
   "source": [
    "# RESULTS[\"train_all_train_easy_loss\"] = losses\n",
    "# RESULTS[\"train_all_train_easy_acc\"] = accs"
   ]
  },
  {
   "cell_type": "markdown",
   "metadata": {},
   "source": [
    "Train loss and accuracy on easy data of model trained on easy data."
   ]
  },
  {
   "cell_type": "code",
   "execution_count": null,
   "metadata": {},
   "outputs": [],
   "source": [
    "# EXP_NAME = \"resnet_50__cifar100_easy_data\"\n",
    "# DEVICE = \"gpu\"\n",
    "# REPLICATE = 0\n",
    "# SUBSET_SIZE = 2048\n",
    "# BATCH_SIZE = 1000\n",
    "\n",
    "# MODEL_HPARAMS = ResNetClassifierHparams(num_classes=100, num_layers=50, low_res=True)\n",
    "# DATA_TRANSFORMS = [\n",
    "#     SubsetByScore(score=\"error_norm_cifar100_resnet50_7800ba_16reps_seed789\", size=SUBSET_SIZE, class_balanced=True)\n",
    "# ]\n",
    "# DATA_HPARAMS = CIFAR100DataHparams(\n",
    "#     train=True, shuffle=False, drop_last=False, no_augment=True, dataset_transforms=DATA_TRANSFORMS\n",
    "# )\n",
    "\n",
    "# losses, accs = [], []\n",
    "# for step in RESULTS[\"steps\"]:\n",
    "#     print(step)\n",
    "#     loss, acc = evaluate(step)\n",
    "#     losses.append(loss)\n",
    "#     accs.append(acc)\n",
    "    \n",
    "# losses, accs = np.array(losses), np.array(accs)"
   ]
  },
  {
   "cell_type": "code",
   "execution_count": null,
   "metadata": {},
   "outputs": [],
   "source": [
    "# RESULTS[\"train_easy_train_easy_loss\"] = losses\n",
    "# RESULTS[\"train_easy_train_easy_acc\"] = accs"
   ]
  },
  {
   "cell_type": "code",
   "execution_count": null,
   "metadata": {},
   "outputs": [],
   "source": [
    "# torch.save(RESULTS, \"results_0.pt\")"
   ]
  },
  {
   "cell_type": "markdown",
   "metadata": {},
   "source": [
    "---"
   ]
  },
  {
   "cell_type": "code",
   "execution_count": null,
   "metadata": {},
   "outputs": [],
   "source": [
    "# plt.figure()\n",
    "# plt.plot(RESULTS[\"steps\"], RESULTS[\"train_all_test_acc\"], '.-', label=\"Trained on All Data\")\n",
    "# plt.plot(RESULTS[\"steps\"], RESULTS[\"train_easy_test_acc\"], '.-', label=\"Trained on Easy Data\")\n",
    "# # plt.legend()\n",
    "# plt.xticks([0, 400, 800, 1200, 1600])\n",
    "# plt.xlabel(\"Step\")\n",
    "# plt.ylabel(\"Accuracy\")\n",
    "# plt.title(\"Performance on Test Data\")\n",
    "# plt.savefig(\"test.svg\")\n",
    "# plt.show()\n",
    "# plt.figure()\n",
    "# plt.plot(RESULTS[\"steps\"], RESULTS[\"train_all_train_all_acc\"], '.-', label=\"Trained on All Data\")\n",
    "# plt.plot(RESULTS[\"steps\"], RESULTS[\"train_easy_train_all_acc\"], '.-', label=\"Trained on Easy Data\")\n",
    "# # plt.legend()\n",
    "# plt.xticks([0, 400, 800, 1200, 1600])\n",
    "# plt.xlabel(\"Step\")\n",
    "# plt.ylabel(\"Accuracy\")\n",
    "# plt.title(\"Performance on All Train Data\")\n",
    "# plt.savefig(\"train_all.svg\")\n",
    "# plt.show()\n",
    "# plt.figure()\n",
    "# plt.plot(RESULTS[\"steps\"], RESULTS[\"train_all_train_easy_acc\"], '.-', label=\"Trained on All Data\")\n",
    "# plt.plot(RESULTS[\"steps\"], RESULTS[\"train_easy_train_easy_acc\"], '.-', label=\"Trained on Easy Data\")\n",
    "# # plt.legend()\n",
    "# plt.xticks([0, 400, 800, 1200, 1600])\n",
    "# plt.xlabel(\"Step\")\n",
    "# plt.ylabel(\"Accuracy\")\n",
    "# plt.title(\"Performance on Easy Train Data\")\n",
    "# plt.savefig(\"train_easy.svg\")\n",
    "# plt.show()"
   ]
  },
  {
   "cell_type": "markdown",
   "metadata": {},
   "source": [
    "---"
   ]
  },
  {
   "cell_type": "markdown",
   "metadata": {},
   "source": []
  },
  {
   "cell_type": "code",
   "execution_count": 8,
   "metadata": {},
   "outputs": [],
   "source": [
    "def get_grad_sims(step):\n",
    "    seed = 2022 * (REPLICATE + 1)\n",
    "    reproducibility.seed_all(seed)\n",
    "    model = MODEL_HPARAMS.initialize_object()\n",
    "    model.load_state_dict(torch.load(f\"../exps/rank_0/{EXP_NAME}/rep_{REPLICATE}/ba_{step}.pt\")[\"state\"][\"model\"])\n",
    "    model = model.cuda()\n",
    "    model = model.eval()\n",
    "\n",
    "    dataloader = DATA_HPARMS.initialize_object(\n",
    "        BATCH_SIZE, DataLoaderHparams(persistent_workers=False), object_store=object_store\n",
    "    )\n",
    "\n",
    "    grads = []\n",
    "    for x, y in tqdm(dataloader):\n",
    "        x, y = x.cuda(), y.cuda()\n",
    "        model.zero_grad()\n",
    "        loss = model.loss(model((x, y)), (x, y))\n",
    "        loss.backward()\n",
    "        grads.append(torch.cat([p.grad.detach().flatten() for p in model.parameters()]).cpu())\n",
    "        if len(grads) == N_GRADS:\n",
    "            break\n",
    "    grads = torch.stack(grads)\n",
    "    mean_grad = grads.mean(0)\n",
    "    return torch.nn.functional.cosine_similarity(grads, mean_grad)"
   ]
  },
  {
   "cell_type": "code",
   "execution_count": 9,
   "metadata": {},
   "outputs": [],
   "source": [
    "grad_sims = {}\n",
    "grad_sims[\"steps\"] = np.arange(10, 410, 10)"
   ]
  },
  {
   "cell_type": "code",
   "execution_count": null,
   "metadata": {},
   "outputs": [],
   "source": [
    "EXP_NAME = \"resnet_50__cifar100_all_data\"\n",
    "REPLICATE = 1\n",
    "BATCH_SIZE = 128\n",
    "N_GRADS = 16\n",
    "\n",
    "MODEL_HPARAMS = ResNetClassifierHparams(num_classes=100, num_layers=50, low_res=True)\n",
    "DATA_HPARMS = CIFAR100DataHparams(train=True)\n",
    "\n",
    "grad_sims[\"all\"] = [get_grad_sims(step) for step in grad_sims[\"steps\"]]"
   ]
  },
  {
   "cell_type": "code",
   "execution_count": null,
   "metadata": {},
   "outputs": [],
   "source": [
    "EXP_NAME = \"resnet_50__cifar100_easy_data\"\n",
    "REPLICATE = 1\n",
    "SUBSET_SIZE = 2048\n",
    "BATCH_SIZE = 128\n",
    "N_GRADS = 16\n",
    "\n",
    "DATA_TRANSFORMS = [\n",
    "    SubsetByScore(score=\"error_norm_cifar100_resnet50_7800ba_16reps_seed789\", size=SUBSET_SIZE, class_balanced=True)\n",
    "]\n",
    "MODEL_HPARAMS = ResNetClassifierHparams(num_classes=100, num_layers=50, low_res=True)\n",
    "DATA_HPARMS = CIFAR100DataHparams(train=True, no_augment=True, dataset_transforms=DATA_TRANSFORMS)\n",
    "\n",
    "grad_sims[\"easy\"] = [get_grad_sims(step) for step in grad_sims[\"steps\"]]"
   ]
  },
  {
   "cell_type": "code",
   "execution_count": 15,
   "metadata": {},
   "outputs": [],
   "source": [
    "grad_sims[\"all\"] = np.stack([np.array(gs) for gs in grad_sims[\"all\"]])\n",
    "grad_sims[\"easy\"] = np.stack([np.array(gs) for gs in grad_sims[\"easy\"]])"
   ]
  },
  {
   "cell_type": "code",
   "execution_count": 32,
   "metadata": {},
   "outputs": [
    {
     "data": {
      "image/png": "[encoded data removed]",
      "text/plain": [
       "<Figure size 600x450 with 1 Axes>"
      ]
     },
     "metadata": {},
     "output_type": "display_data"
    }
   ],
   "source": [
    "plt.plot(grad_sims[\"steps\"], grad_sims[\"all\"].mean(1), '.-', alpha=0.9)\n",
    "plt.fill_between(\n",
    "    grad_sims[\"steps\"], \n",
    "    grad_sims[\"all\"].mean(1) + grad_sims[\"all\"].std(1), \n",
    "    grad_sims[\"all\"].mean(1) - grad_sims[\"all\"].std(1), \n",
    "    color=\"C0\", \n",
    "    alpha=0.2\n",
    ")\n",
    "plt.plot(grad_sims[\"steps\"], grad_sims[\"easy\"].mean(1), '.-', alpha=0.9)\n",
    "plt.fill_between(\n",
    "    grad_sims[\"steps\"], \n",
    "    grad_sims[\"easy\"].mean(1) + grad_sims[\"easy\"].std(1), \n",
    "    grad_sims[\"easy\"].mean(1) - grad_sims[\"easy\"].std(1), \n",
    "    color=\"C1\", \n",
    "    alpha=0.3\n",
    ")\n",
    "plt.xlabel(\"Step\")\n",
    "plt.ylabel(\"Cosine Similarity\")\n",
    "plt.ylim(-0.4, 1.05)\n",
    "plt.xlim(0, 410)\n",
    "plt.savefig(\"sim.svg\")"
   ]
  },
  {
   "cell_type": "code",
   "execution_count": null,
   "metadata": {},
   "outputs": [],
   "source": []
  }
 ],
 "metadata": {
  "kernelspec": {
   "display_name": "Python 3.9.12 ('lth_diet')",
   "language": "python",
   "name": "python3"
  },
  "language_info": {
   "codemirror_mode": {
    "name": "ipython",
    "version": 3
   },
   "file_extension": ".py",
   "mimetype": "text/x-python",
   "name": "python",
   "nbconvert_exporter": "python",
   "pygments_lexer": "ipython3",
   "version": "3.9.12"
  },
  "orig_nbformat": 4,
  "vscode": {
   "interpreter": {
    "hash": "f6ede5693076468011a9b06db16dff54c2e2dab3909e284e06b92eee2c289d4c"
   }
  }
 },
 "nbformat": 4,
 "nbformat_minor": 2
}
