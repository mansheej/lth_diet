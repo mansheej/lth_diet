{
 "cells": [
  {
   "cell_type": "code",
   "execution_count": 1,
   "metadata": {},
   "outputs": [],
   "source": [
    "from composer.datasets.dataloader import DataLoaderHparams\n",
    "from composer.utils.object_store import ObjectStoreProviderHparams\n",
    "from lth_diet.data import CIFAR10DataHparams, DataHparams\n",
    "from lth_diet.exps import TrainExperiment\n",
    "from lth_diet.models import ComposerClassifierHparams, ResNetCIFARClassifierHparams\n",
    "from lth_diet.utils import utils\n",
    "import matplotlib.pyplot as plt\n",
    "import numpy as np\n",
    "from numpy.typing import NDArray\n",
    "import os\n",
    "import torch\n",
    "import torch.nn.functional as F\n",
    "from tqdm import tqdm\n",
    "plt.style.use(\"default\")\n",
    "plt.style.use(\"ggplot\")"
   ]
  },
  {
   "cell_type": "code",
   "execution_count": 2,
   "metadata": {},
   "outputs": [
    {
     "name": "stdout",
     "output_type": "stream",
     "text": [
      "EXPERIMENT HASH: 7021678d112f70acb93002144a553e8d\n"
     ]
    }
   ],
   "source": [
    "# Experiment\n",
    "exp = TrainExperiment.create(f='/home/mansheej/lth_diet/configs/cifar10_resnet20.yaml', cli_args=False)\n",
    "exp.max_duration = \"6240ba\"\n",
    "exp.seed = \"1009\"\n",
    "exp_hash = utils.get_hash(exp.name)\n",
    "print(f\"EXPERIMENT HASH: {exp_hash}\")"
   ]
  },
  {
   "cell_type": "code",
   "execution_count": 3,
   "metadata": {},
   "outputs": [],
   "source": [
    "def calculate_scores(\n",
    "    exp_hash: str, num_replicates: int, data_hparams: DataHparams, model_hparams: ComposerClassifierHparams\n",
    ") -> NDArray[np.float64]:\n",
    "    torch.set_grad_enabled(False)\n",
    "    object_store = ObjectStoreProviderHparams('google_storage', 'prunes', 'GCS_KEY', ).initialize_object()\n",
    "    dl = data_hparams.initialize_object(batch_size=1000, dataloader_hparams=DataLoaderHparams())\n",
    "    model = model_hparams.initialize_object()\n",
    "    scores = []\n",
    "    for r in tqdm(range(num_replicates)):\n",
    "        object_store.download_object(f\"exps/{exp_hash}/replicate_{r}/main/model_final.pt\", \"model.pt\")\n",
    "        model.load_state_dict(torch.load(\"model.pt\"))\n",
    "        model.cuda()\n",
    "        scores_r = []\n",
    "        for batch in dl:\n",
    "            batch = [tensor.cuda() for tensor in batch]\n",
    "            probs, targs = F.softmax(model(batch), dim=-1), F.one_hot(batch[1], model.num_classes)\n",
    "            scores_rb = torch.linalg.vector_norm(probs - targs, dim=-1)\n",
    "            scores_r.append(scores_rb)\n",
    "        scores.append(torch.cat(scores_r))\n",
    "        os.remove(\"model.pt\")\n",
    "    scores = torch.stack(scores).mean(dim=0).cpu().numpy()\n",
    "    return scores"
   ]
  },
  {
   "cell_type": "code",
   "execution_count": 4,
   "metadata": {},
   "outputs": [
    {
     "name": "stderr",
     "output_type": "stream",
     "text": [
      "100%|██████████| 16/16 [00:53<00:00,  3.32s/it]\n"
     ]
    }
   ],
   "source": [
    "num_replicates = 16\n",
    "scores = calculate_scores(\n",
    "    exp_hash, \n",
    "    num_replicates,\n",
    "    CIFAR10DataHparams(train=True, shuffle=False, drop_last=False, no_augment=True),\n",
    "    ResNetCIFARClassifierHparams(num_classes=10, num_layers=20)\n",
    ")"
   ]
  },
  {
   "cell_type": "code",
   "execution_count": 19,
   "metadata": {},
   "outputs": [],
   "source": [
    "np.save(\"scores.npy\", scores)\n",
    "object_score = ObjectStoreProviderHparams('google_storage', 'prunes', 'GCS_KEY', ).initialize_object()\n",
    "object_score.upload_object(\"scores.npy\", \"exps/scores/error_norm_cifar10_resnet20_6240ba_16reps_seed1009.npy\")\n",
    "os.remove(\"scores.npy\")"
   ]
  }
 ],
 "metadata": {
  "interpreter": {
   "hash": "f6ede5693076468011a9b06db16dff54c2e2dab3909e284e06b92eee2c289d4c"
  },
  "kernelspec": {
   "display_name": "Python 3.9.12 ('lth_diet')",
   "language": "python",
   "name": "python3"
  },
  "language_info": {
   "codemirror_mode": {
    "name": "ipython",
    "version": 3
   },
   "file_extension": ".py",
   "mimetype": "text/x-python",
   "name": "python",
   "nbconvert_exporter": "python",
   "pygments_lexer": "ipython3",
   "version": "3.9.12"
  },
  "orig_nbformat": 4
 },
 "nbformat": 4,
 "nbformat_minor": 2
}
